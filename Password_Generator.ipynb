{
  "nbformat": 4,
  "nbformat_minor": 0,
  "metadata": {
    "colab": {
      "provenance": []
    },
    "kernelspec": {
      "name": "python3",
      "display_name": "Python 3"
    },
    "language_info": {
      "name": "python"
    }
  },
  "cells": [
    {
      "cell_type": "code",
      "execution_count": 5,
      "metadata": {
        "colab": {
          "base_uri": "https://localhost:8080/"
        },
        "id": "5Qn8zpIRJKrb",
        "outputId": "b8c328a5-e539-4d30-9ef4-d713f121da6a"
      },
      "outputs": [
        {
          "output_type": "stream",
          "name": "stdout",
          "text": [
            "Enter password length: 4\n",
            "Choose character set for password from these : \n",
            "         1. Digits\n",
            "         2. Letters\n",
            "         3. Special characters\n",
            "         4. Exit\n",
            "Pick a number 1\n",
            "Pick a number 2\n",
            "Pick a number 3\n",
            "Pick a number 1\n",
            "Pick a number 4\n",
            "The random password is ?yG|\n"
          ]
        }
      ],
      "source": [
        "import string\n",
        "import random\n",
        "length = int(input(\"Enter password length: \"))\n",
        "print('''Choose character set for password from these :\n",
        "         1. Digits\n",
        "         2. Letters\n",
        "         3. Special characters\n",
        "         4. Exit''')\n",
        "characterList = \"\"\n",
        "while(True):\n",
        "    choice = int(input(\"Pick a number \"))\n",
        "    if(choice == 1):\n",
        "        characterList += string.ascii_letters\n",
        "    elif(choice == 2):\n",
        "        characterList += string.digits\n",
        "    elif(choice == 3):\n",
        "        characterList += string.punctuation\n",
        "    elif(choice == 4):\n",
        "        break\n",
        "    else:\n",
        "        print(\"Please pick a valid option!\")\n",
        "password = []\n",
        "for i in range(length):\n",
        "   randomchar = random.choice(characterList)\n",
        "   password.append(randomchar)\n",
        "print(\"The random password is \" + \"\".join(password))"
      ]
    }
  ]
}